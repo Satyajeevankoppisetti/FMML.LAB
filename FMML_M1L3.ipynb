{
  "cells": [
    {
      "cell_type": "markdown",
      "metadata": {
        "id": "view-in-github",
        "colab_type": "text"
      },
      "source": [
        "<a href=\"https://colab.research.google.com/github/Satyajeevankoppisetti/FMML.LAB/blob/main/FMML_M1L3.ipynb\" target=\"_parent\"><img src=\"https://colab.research.google.com/assets/colab-badge.svg\" alt=\"Open In Colab\"/></a>"
      ]
    },
    {
      "cell_type": "markdown",
      "metadata": {
        "id": "w3yfry25JgZK"
      },
      "source": [
        "# Data Augmentation\n",
        "\n",
        "FMML Module 1, Lab 3\n",
        "\n",
        "In this lab, we will see how augmentation of data samples help in improving the machine learning performance. Augmentation is the process of creating new data samples by making reasonable modifications to the original data samples. This is particularly useful when the size of the training data is small. We will use the MNISt dataset for this lab. We will also reuse functions from the previous labs."
      ]
    },
    {
      "cell_type": "code",
      "execution_count": 2,
      "metadata": {
        "id": "xZU8_elooqP0"
      },
      "outputs": [],
      "source": [
        "import numpy as np\n",
        "import matplotlib.pyplot as plt\n",
        "from keras.datasets import mnist\n",
        "from sklearn.utils.extmath import cartesian\n",
        "from skimage.transform import rotate, AffineTransform, warp\n",
        "\n",
        "rng = np.random.default_rng(seed=42)"
      ]
    },
    {
      "cell_type": "code",
      "execution_count": 3,
      "metadata": {
        "id": "gJvmWJ58ovx5",
        "colab": {
          "base_uri": "https://localhost:8080/"
        },
        "outputId": "03a1e6e1-8c8e-4457-ad15-24e804ae90c4"
      },
      "outputs": [
        {
          "output_type": "stream",
          "name": "stdout",
          "text": [
            "Downloading data from https://storage.googleapis.com/tensorflow/tf-keras-datasets/mnist.npz\n",
            "\u001b[1m11490434/11490434\u001b[0m \u001b[32m━━━━━━━━━━━━━━━━━━━━\u001b[0m\u001b[37m\u001b[0m \u001b[1m1s\u001b[0m 0us/step\n"
          ]
        }
      ],
      "source": [
        "# loading the dataset\n",
        "(train_X, train_y), (test_X, test_y) = mnist.load_data()\n",
        "\n",
        "# normalizing the data\n",
        "train_X = train_X / 255\n",
        "test_X = test_X / 255\n",
        "\n",
        "# subsample from images and labels. Otherwise it will take too long!\n",
        "train_X = train_X[::1200, :, :].copy()\n",
        "train_y = train_y[::1200].copy()"
      ]
    },
    {
      "cell_type": "markdown",
      "metadata": {
        "id": "8XamH6z1Rt7S"
      },
      "source": [
        "Let us borrow a few functions from the previous labs:"
      ]
    },
    {
      "cell_type": "code",
      "execution_count": 4,
      "metadata": {
        "id": "Zk2W5_3BRLMS"
      },
      "outputs": [],
      "source": [
        "def NN1(traindata, trainlabel, query):\n",
        "    \"\"\"\n",
        "    This function takes in the training data, training labels and a query point\n",
        "    and returns the predicted label for the query point using the nearest neighbour algorithm\n",
        "\n",
        "    traindata: numpy array of shape (n,d) where n is the number of samples and d is the number of features\n",
        "    trainlabel: numpy array of shape (n,) where n is the number of samples\n",
        "    query: numpy array of shape (d,) where d is the number of features\n",
        "\n",
        "    returns: the predicted label for the query point which is the label of the training data which is closest to the query point\n",
        "    \"\"\"\n",
        "    diff = (\n",
        "        traindata - query\n",
        "    )  # find the difference between features. Numpy automatically takes care of the size here\n",
        "    sq = diff * diff  # square the differences\n",
        "    dist = sq.sum(1)  # add up the squares\n",
        "    label = trainlabel[np.argmin(dist)]\n",
        "    return label\n",
        "\n",
        "\n",
        "def NN(traindata, trainlabel, testdata):\n",
        "    \"\"\"\n",
        "    This function takes in the training data, training labels and test data\n",
        "    and returns the predicted labels for the test data using the nearest neighbour algorithm\n",
        "\n",
        "    traindata: numpy array of shape (n,d) where n is the number of samples and d is the number of features\n",
        "    trainlabel: numpy array of shape (n,) where n is the number of samples\n",
        "    testdata: numpy array of shape (m,d) where m is the number of test samples and d is the number of features\n",
        "\n",
        "    returns: the predicted labels for the test data which is the label of the training data which is closest to each test point\n",
        "    \"\"\"\n",
        "    traindata = traindata.reshape(-1, 28*28)\n",
        "    testdata = testdata.reshape(-1, 28*28)\n",
        "    predlabel = np.array([NN1(traindata, trainlabel, i) for i in testdata])\n",
        "    return predlabel\n",
        "\n",
        "\n",
        "def Accuracy(gtlabel, predlabel):\n",
        "    \"\"\"\n",
        "    This function takes in the ground-truth labels and predicted labels\n",
        "    and returns the accuracy of the classifier\n",
        "\n",
        "    gtlabel: numpy array of shape (n,) where n is the number of samples\n",
        "    predlabel: numpy array of shape (n,) where n is the number of samples\n",
        "\n",
        "    returns: the accuracy of the classifier which is the number of correct predictions divided by the total number of predictions\n",
        "    \"\"\"\n",
        "    assert len(gtlabel) == len(\n",
        "        predlabel\n",
        "    ), \"Length of the ground-truth labels and predicted labels should be the same\"\n",
        "    correct = (\n",
        "        gtlabel == predlabel\n",
        "    ).sum()  # count the number of times the groundtruth label is equal to the predicted label.\n",
        "    return correct / len(gtlabel)"
      ]
    },
    {
      "cell_type": "markdown",
      "metadata": {
        "id": "eGiA3LmDSJZo"
      },
      "source": [
        "In this lab, we will use the image pixels themselves as features, instead of extracting features. Each image has 28*28 pixels, so we will flatten them to 784 pixels to use as features. Note that this is very compute intensive and will take a long time. Let us first check the baseline accuracy on the test set without any augmentations. We hope that adding augmentations will help us to get better results."
      ]
    },
    {
      "cell_type": "code",
      "execution_count": 5,
      "metadata": {
        "colab": {
          "base_uri": "https://localhost:8080/"
        },
        "id": "4tQvnoasRNEV",
        "outputId": "187682c4-efcf-48bc-f1e9-c3bf7f54d695"
      },
      "outputs": [
        {
          "output_type": "stream",
          "name": "stdout",
          "text": [
            "Baseline accuracy without augmentation: 64.72 %\n"
          ]
        }
      ],
      "source": [
        "testpred = NN(train_X, train_y, test_X)\n",
        "print(\"Baseline accuracy without augmentation:\",\n",
        "      Accuracy(test_y, testpred)*100, \"%\")"
      ]
    },
    {
      "cell_type": "markdown",
      "metadata": {
        "id": "ZfkcMfhIZQ7U"
      },
      "source": [
        "Let us try to improve this accuracy using augmentations. When we create augmentations, we have to make sure that the changes reflect what will naturally occur in the dataset. For example, we should not add colour to our samples as an augmentation because they do not naturally occur. We should not also flip the images in MNIST, because flipped images have different meanings for digits. So, we will use the following augmentations:\n",
        "\n",
        "### Augmentation 1: Rotation\n",
        "\n",
        "Let us try rotating the image a little. We will use the `rotate` function from the `skimage` module. We will rotate the image by 10 degrees and -10 degrees. Rotation is a reasonable augmentation because the digit will still be recognizable even after rotation and is representative of the dataset."
      ]
    },
    {
      "cell_type": "code",
      "execution_count": 7,
      "metadata": {
        "id": "z5WolJ9fZE7L",
        "colab": {
          "base_uri": "https://localhost:8080/",
          "height": 424
        },
        "outputId": "8f89c887-1e7f-43d8-ea33-772714e8fc1f"
      },
      "outputs": [
        {
          "output_type": "display_data",
          "data": {
            "text/plain": [
              "<Figure size 1500x500 with 3 Axes>"
            ],
            "image/png": "[encoded data removed]"
          },
          "metadata": {}
        }
      ],
      "source": [
        "import matplotlib.pyplot as plt\n",
        "from scipy.ndimage import rotate\n",
        "\n",
        "fig, axs = plt.subplots(1, 3, figsize=(15, 5))\n",
        "\n",
        "axs[0].imshow(train_X[2], cmap=\"gray\")\n",
        "axs[0].set_title(\"Original Image\")\n",
        "\n",
        "axs[1].imshow(rotate(train_X[2], 10), cmap=\"Greens\")  # Changed to \"Greens\"\n",
        "axs[1].set_title(\"Rotate +10 degrees\")\n",
        "\n",
        "axs[2].imshow(rotate(train_X[2], -10), cmap=\"gray\")\n",
        "axs[2].set_title(\"Rotate -10 degrees\")\n",
        "\n",
        "plt.show()\n"
      ]
    },
    {
      "cell_type": "markdown",
      "metadata": {
        "id": "KE33Yxgggu0c"
      },
      "source": [
        "After rotating, the the class of the image is still the same. Let us make a function to rotate multiple images by random angles. We want a slightly different image every time we run this function. So, we generate a random number between 0 and 1 and change it so that it lies between -constraint/2 and +constraint/2"
      ]
    },
    {
      "cell_type": "code",
      "execution_count": 8,
      "metadata": {
        "id": "vyM7pUV7Reze"
      },
      "outputs": [],
      "source": [
        "def augRotate(sample, angleconstraint):\n",
        "    \"\"\"\n",
        "    This function takes in a sample and an angle constraint and returns the augmented sample\n",
        "    by rotating the sample by a random angle within the angle constraint\n",
        "\n",
        "    sample: numpy array of shape (n,d) where n is the number of samples and d is the number of features\n",
        "    angleconstraint: the maximum angle by which the sample can be rotated\n",
        "\n",
        "    returns: the augmented sample which is the input sample rotated by a random angle within the angle constraint\n",
        "    \"\"\"\n",
        "    if angleconstraint == 0:\n",
        "        return sample\n",
        "    if len(sample.shape) == 2:\n",
        "        # make sure the sample is 3 dimensional\n",
        "        sample = np.expand_dims(sample, 0)\n",
        "    angle = rng.random(len(sample))  # generate random numbers for angles\n",
        "    # make the random angle constrained\n",
        "    angle = (angle - 0.5) * angleconstraint\n",
        "    nsample = sample.copy()  # preallocate the augmented array to make it faster\n",
        "    for ii in range(len(sample)):\n",
        "        nsample[ii] = rotate(sample[ii], angle[ii])\n",
        "    return np.squeeze(nsample)  # take care if the input had only one sample."
      ]
    },
    {
      "cell_type": "markdown",
      "metadata": {
        "id": "kDk-N5VNjar9"
      },
      "source": [
        "This function returns a slightly different image each time we call it. So we can increase the number of images in the sample by any multiple."
      ]
    },
    {
      "cell_type": "code",
      "execution_count": 15,
      "metadata": {
        "colab": {
          "base_uri": "https://localhost:8080/",
          "height": 283
        },
        "id": "Vw3O9zGFgI8K",
        "outputId": "7df97065-e60f-49d7-db64-a540eb45fdc3"
      },
      "outputs": [
        {
          "output_type": "display_data",
          "data": {
            "text/plain": [
              "<Figure size 1500x500 with 5 Axes>"
            ],
            "image/png": "[encoded data removed]"
          },
          "metadata": {}
        }
      ],
      "source": [
        "import matplotlib.pyplot as plt\n",
        "from scipy.ndimage import rotate\n",
        "import numpy as np\n",
        "\n",
        "def augRotate(sample, angleconstraint):\n",
        "    # Generate a random angle for rotation\n",
        "    angle = np.random.uniform(-angleconstraint, angleconstraint)\n",
        "    # Rotate the sample image\n",
        "    return rotate(sample, angle, reshape=False)\n",
        "\n",
        "# Sample image from train_X\n",
        "sample = train_X[20]\n",
        "angleconstraint = 70\n",
        "\n",
        "fig, axs = plt.subplots(1, 5, figsize=(15, 5))\n",
        "\n",
        "axs[0].imshow(sample, cmap=\"gray\")\n",
        "axs[0].set_title(\"Original Image\")\n",
        "\n",
        "for i in range(1, 5):\n",
        "    axs[i].imshow(augRotate(sample, angleconstraint), cmap=\"gray\")\n",
        "    axs[i].set_title(f\"Aug. Sample {i}\")\n",
        "\n",
        "plt.show()\n",
        "\n"
      ]
    },
    {
      "cell_type": "markdown",
      "metadata": {
        "id": "ytv3NxF-kgxN"
      },
      "source": [
        "Let us augment the whole dataset and see if this improves the test accuracy"
      ]
    },
    {
      "cell_type": "code",
      "execution_count": 14,
      "metadata": {
        "id": "iNzNAoDBkRzj",
        "colab": {
          "base_uri": "https://localhost:8080/"
        },
        "outputId": "d23f5094-b923-480f-8db3-cc434661efb8"
      },
      "outputs": [
        {
          "output_type": "stream",
          "name": "stdout",
          "text": [
            "Accuracy after rotation augmentation: 65.51 %\n"
          ]
        }
      ],
      "source": [
        "# hyperparameters\n",
        "angleconstraint = 60\n",
        "naugmentations = 5\n",
        "\n",
        "# augment\n",
        "augdata = train_X  # we include the original images also in the augmented dataset\n",
        "auglabel = train_y\n",
        "for ii in range(naugmentations):\n",
        "    augdata = np.concatenate(\n",
        "        (augdata, augRotate(train_X, angleconstraint))\n",
        "    )  # concatenate the augmented data to the set\n",
        "    auglabel = np.concatenate(\n",
        "        (auglabel, train_y)\n",
        "    )  # the labels don't change when we augment\n",
        "\n",
        "# check the test accuracy\n",
        "testpred = NN(augdata, auglabel, test_X)\n",
        "print(\"Accuracy after rotation augmentation:\", Accuracy(test_y, testpred)*100, \"%\")"
      ]
    },
    {
      "cell_type": "markdown",
      "metadata": {
        "id": "E88Nt9s1p5R6"
      },
      "source": [
        "We can notice a 3-4% improvement compared to non-augmented version of the dataset!\n",
        "\n",
        "The angle constraint is a hyperparameter which we have to tune using a validation set. (Here we are not doing that for time constraints). Let us try a grid search to find the best angle constraint. We will try angles between 0 and 90 degrees. We can also try different multiples of the original dataset. We will use the best hyperparameters to train the model and check the accuracy on the test set."
      ]
    },
    {
      "cell_type": "code",
      "execution_count": 16,
      "metadata": {
        "id": "aiaFRLREmGp6",
        "colab": {
          "base_uri": "https://localhost:8080/"
        },
        "outputId": "9a89c965-cf04-4203-8828-3dd528703f60"
      },
      "outputs": [
        {
          "output_type": "stream",
          "name": "stdout",
          "text": [
            "Accuracy after rotation augmentation constrained by 0 degrees is 64.72 %\n",
            "Accuracy after rotation augmentation constrained by 10 degrees is 63.28 %\n",
            "Accuracy after rotation augmentation constrained by 20 degrees is 59.01 %\n",
            "Accuracy after rotation augmentation constrained by 30 degrees is 58.24 %\n",
            "Accuracy after rotation augmentation constrained by 40 degrees is 59.089999999999996 %\n",
            "Accuracy after rotation augmentation constrained by 50 degrees is 59.809999999999995 %\n",
            "Accuracy after rotation augmentation constrained by 60 degrees is 59.11 %\n",
            "Accuracy after rotation augmentation constrained by 70 degrees is 61.28 %\n",
            "Accuracy after rotation augmentation constrained by 80 degrees is 63.3 %\n",
            "Accuracy after rotation augmentation constrained by 90 degrees is 58.040000000000006 %\n"
          ]
        }
      ],
      "source": [
        "angleconstraints = [0, 10, 20, 30, 40, 50, 60, 70, 80, 90]  # the values we want to test\n",
        "accuracies = np.zeros(\n",
        "    len(angleconstraints), dtype=float\n",
        ")  # we will save the values here\n",
        "\n",
        "for ii in range(len(angleconstraints)):\n",
        "    # create the augmented dataset\n",
        "    augdata = train_X  # we include the original images also in the augmented dataset\n",
        "    auglabel = train_y\n",
        "    for jj in range(naugmentations):\n",
        "        augdata = np.concatenate(\n",
        "            (augdata, augRotate(train_X, angleconstraints[ii]))\n",
        "        )  # concatenate the augmented data to the set\n",
        "        auglabel = np.concatenate(\n",
        "            (auglabel, train_y)\n",
        "        )  # the labels don't change when we augment\n",
        "\n",
        "    # check the test accuracy\n",
        "    testpred = NN(augdata, auglabel, test_X)\n",
        "    accuracies[ii] = Accuracy(test_y, testpred)\n",
        "    print(\n",
        "        \"Accuracy after rotation augmentation constrained by\",\n",
        "        angleconstraints[ii],\n",
        "        \"degrees is\",\n",
        "        accuracies[ii]*100,\n",
        "        \"%\",\n",
        "        flush=True,\n",
        "    )"
      ]
    },
    {
      "cell_type": "markdown",
      "metadata": {
        "id": "2oVDRYP2rxob"
      },
      "source": [
        "Let us see the best value for angle constraint: (Ideally this should be done on validation set, not test set)"
      ]
    },
    {
      "cell_type": "code",
      "execution_count": 17,
      "metadata": {
        "id": "LqthJa_pmMHz",
        "colab": {
          "base_uri": "https://localhost:8080/",
          "height": 483
        },
        "outputId": "ee34b5d8-95a3-49f9-afb7-3915af6b287b"
      },
      "outputs": [
        {
          "output_type": "execute_result",
          "data": {
            "text/plain": [
              "<matplotlib.collections.PathCollection at 0x7c895da32cb0>"
            ]
          },
          "metadata": {},
          "execution_count": 17
        },
        {
          "output_type": "display_data",
          "data": {
            "text/plain": [
              "<Figure size 640x480 with 1 Axes>"
            ],
            "image/png": "[encoded data removed]"
          },
          "metadata": {}
        }
      ],
      "source": [
        "fig = plt.figure()\n",
        "ax = fig.add_axes([0.1, 0.1, 0.8, 0.8])\n",
        "# plot the variation of accuracy\n",
        "ax.plot(angleconstraints, accuracies)\n",
        "ax.set_xlabel(\"angle\")\n",
        "ax.set_ylabel(\"accuracy\")\n",
        "\n",
        "# plot the maximum accuracy\n",
        "maxind = np.argmax(accuracies)\n",
        "plt.scatter(angleconstraints[maxind], accuracies[maxind], c=\"red\")"
      ]
    },
    {
      "cell_type": "markdown",
      "metadata": {
        "id": "eJ8YuVfCuGTj"
      },
      "source": [
        "### Augmentation 2: Shear\n",
        "\n",
        "\n",
        "Let us try one more augmentation: shear. Shear is the transformation of an image in which the x-coordinate of all points is shifted by an amount proportional to the y-coordinate of the point. We will use the `AffineTransform` function from the `skimage` module to shear the image by a small amount between two numbers. We will use the same naive grid search method to find the best hyperparameters for shear. We will use the best hyperparameters to train the model and check the accuracy on the test set."
      ]
    },
    {
      "cell_type": "code",
      "execution_count": 18,
      "metadata": {
        "id": "pMiw46NLwssK"
      },
      "outputs": [],
      "source": [
        "def shear(sample, amount):\n",
        "    \"\"\"\n",
        "    This function takes in a sample and an amount and returns the augmented sample\n",
        "    by shearing the sample by the given amount\n",
        "\n",
        "    sample: numpy array of shape (n,d) where n is the number of samples and d is the number of features\n",
        "    amount: the amount by which the sample should be sheared\n",
        "\n",
        "    returns: the augmented sample which is the input sample sheared by the given amount\n",
        "    \"\"\"\n",
        "    tform = AffineTransform(shear=amount)\n",
        "    img = warp(sample, tform)\n",
        "\n",
        "    # Applying shear makes the digit off-center\n",
        "    # Since all images are centralized, we will do the same here\n",
        "    col = img.sum(0).nonzero()[0]\n",
        "    row = img.sum(1).nonzero()[0]\n",
        "    if len(col) > 0 and len(row) > 0:\n",
        "        xshift = int(sample.shape[0] / 2 - (row[0] + row[-1]) / 2)\n",
        "        yshift = int(sample.shape[1] / 2 - (col[0] + col[-1]) / 2)\n",
        "        img = np.roll(img, (xshift, yshift), (0, 1))\n",
        "    return img"
      ]
    },
    {
      "cell_type": "code",
      "execution_count": 19,
      "metadata": {
        "id": "4_u_EYpmnABK",
        "colab": {
          "base_uri": "https://localhost:8080/",
          "height": 335
        },
        "outputId": "a4d280ae-017b-40ca-ea2c-a7709fbb83bc"
      },
      "outputs": [
        {
          "output_type": "display_data",
          "data": {
            "text/plain": [
              "<Figure size 1500x500 with 4 Axes>"
            ],
            "image/png": "[encoded data removed]"
          },
          "metadata": {}
        }
      ],
      "source": [
        "sample = train_X[2]\n",
        "fig, axs = plt.subplots(1, 4, figsize=(15, 5))\n",
        "\n",
        "axs[0].imshow(sample, cmap=\"gray\")\n",
        "axs[0].set_title(\"Original Image\")\n",
        "\n",
        "axs[1].imshow(shear(sample, 0.2), cmap=\"gray\")\n",
        "axs[1].set_title(\"Amount = 0.2\")\n",
        "\n",
        "axs[2].imshow(shear(sample, 0.4), cmap=\"gray\")\n",
        "axs[2].set_title(\"Amount = 0.4\")\n",
        "\n",
        "axs[3].imshow(shear(sample, 0.6), cmap=\"gray\")\n",
        "axs[3].set_title(\"Amount = 0.6\")\n",
        "\n",
        "plt.show()"
      ]
    },
    {
      "cell_type": "markdown",
      "metadata": {
        "id": "lGnWMoyM2pK4"
      },
      "source": [
        "Create an augmentation function which applies a random shear according to the constraint we provide:"
      ]
    },
    {
      "cell_type": "code",
      "execution_count": 20,
      "metadata": {
        "id": "-qLDJyGytwP5"
      },
      "outputs": [],
      "source": [
        "def augShear(sample, shearconstraint):\n",
        "    \"\"\"\n",
        "    This function takes in a sample and a shear constraint and returns the augmented sample\n",
        "    by shearing the sample by a random amount within the shear constraint\n",
        "\n",
        "    sample: numpy array of shape (n,d) where n is the number of samples and d is the number of features\n",
        "    shearconstraint: the maximum shear by which the sample can be sheared\n",
        "\n",
        "    returns: the augmented sample which is the input sample sheared by a random amount within the shear constraint\n",
        "    \"\"\"\n",
        "    if shearconstraint == 0:\n",
        "        return sample\n",
        "    if len(sample.shape) == 2:\n",
        "        # make sure the sample is 3 dimensional\n",
        "        sample = np.expand_dims(sample, 0)\n",
        "    amt = rng.random(len(sample))  # generate random numbers for shear\n",
        "    amt = (amt - 0.5) * shearconstraint  # make the random shear constrained\n",
        "    nsample = sample.copy()  # preallocate the augmented array to make it faster\n",
        "    for ii in range(len(sample)):\n",
        "        nsample[ii] = shear(sample[ii], amt[ii])\n",
        "    return np.squeeze(nsample)  # take care if the input had only one sample."
      ]
    },
    {
      "cell_type": "markdown",
      "metadata": {
        "id": "s6lQcWW93suJ"
      },
      "source": [
        "Let us do a grid search to find the best shear constraint."
      ]
    },
    {
      "cell_type": "code",
      "execution_count": 21,
      "metadata": {
        "id": "l_wrqPkrzBb_",
        "colab": {
          "base_uri": "https://localhost:8080/"
        },
        "outputId": "a8d71128-9d3b-435d-e353-2089798fd03c"
      },
      "outputs": [
        {
          "output_type": "stream",
          "name": "stdout",
          "text": [
            "Accuracy after shear augmentation constrained by 0 is 64.72 %\n",
            "Accuracy after shear augmentation constrained by 0.2 is 63.21 %\n",
            "Accuracy after shear augmentation constrained by 0.4 is 63.660000000000004 %\n",
            "Accuracy after shear augmentation constrained by 0.6 is 64.98 %\n",
            "Accuracy after shear augmentation constrained by 0.8 is 66.99000000000001 %\n",
            "Accuracy after shear augmentation constrained by 1.0 is 65.68 %\n",
            "Accuracy after shear augmentation constrained by 1.2 is 63.56 %\n",
            "Accuracy after shear augmentation constrained by 1.4 is 64.75999999999999 %\n",
            "Accuracy after shear augmentation constrained by 1.6 is 64.28 %\n",
            "Accuracy after shear augmentation constrained by 1.8 is 64.03 %\n",
            "Accuracy after shear augmentation constrained by 2.0 is 61.44 %\n"
          ]
        }
      ],
      "source": [
        "shearconstraints = [\n",
        "    0,\n",
        "    0.2,\n",
        "    0.4,\n",
        "    0.6,\n",
        "    0.8,\n",
        "    1.0,\n",
        "    1.2,\n",
        "    1.4,\n",
        "    1.6,\n",
        "    1.8,\n",
        "    2.0,\n",
        "]  # the values we want to test\n",
        "accuracies = np.zeros(\n",
        "    len(shearconstraints), dtype=float\n",
        ")  # we will save the values here\n",
        "\n",
        "for ii in range(len(shearconstraints)):\n",
        "    # create the augmented dataset\n",
        "    augdata = train_X  # we include the original images also in the augmented dataset\n",
        "    auglabel = train_y\n",
        "    for jj in range(naugmentations):\n",
        "        augdata = np.concatenate(\n",
        "            (augdata, augShear(train_X, shearconstraints[ii]))\n",
        "        )  # concatenate the augmented data to the set\n",
        "        auglabel = np.concatenate(\n",
        "            (auglabel, train_y)\n",
        "        )  # the labels don't change when we augment\n",
        "\n",
        "    # check the test accuracy\n",
        "    testpred = NN(augdata, auglabel, test_X)\n",
        "    accuracies[ii] = Accuracy(test_y, testpred)\n",
        "    print(\n",
        "        \"Accuracy after shear augmentation constrained by\",\n",
        "        shearconstraints[ii],\n",
        "        \"is\",\n",
        "        accuracies[ii]*100,\n",
        "        \"%\",\n",
        "        flush=True,\n",
        "    )"
      ]
    },
    {
      "cell_type": "code",
      "execution_count": 22,
      "metadata": {
        "id": "EKaH-YR-zVnA",
        "colab": {
          "base_uri": "https://localhost:8080/",
          "height": 481
        },
        "outputId": "f92da689-e057-42c1-be3c-34bd75693b0d"
      },
      "outputs": [
        {
          "output_type": "execute_result",
          "data": {
            "text/plain": [
              "<matplotlib.collections.PathCollection at 0x7c895d6f67a0>"
            ]
          },
          "metadata": {},
          "execution_count": 22
        },
        {
          "output_type": "display_data",
          "data": {
            "text/plain": [
              "<Figure size 640x480 with 1 Axes>"
            ],
            "image/png": "[encoded data removed]"
          },
          "metadata": {}
        }
      ],
      "source": [
        "fig = plt.figure()\n",
        "ax = fig.add_axes([0.1, 0.1, 0.8, 0.8])\n",
        "# plot the variation of accuracy\n",
        "ax.plot(shearconstraints, accuracies)\n",
        "ax.set_xlabel(\"angle\")\n",
        "ax.set_ylabel(\"accuracy\")\n",
        "\n",
        "# plot the maximum accuracy\n",
        "maxind = np.argmax(accuracies)\n",
        "plt.scatter(shearconstraints[maxind], accuracies[maxind], c=\"red\")"
      ]
    },
    {
      "cell_type": "markdown",
      "metadata": {
        "id": "ccfdbRcQ7Zgg"
      },
      "source": [
        "### Augmentation 3: Rotation + Shear\n",
        "\n",
        "\n",
        "\n",
        "We can do multiple augmentations at the same time. Here is a function to do both shear and rotation to the sample. In this case, we will have two hyperparameters."
      ]
    },
    {
      "cell_type": "code",
      "execution_count": 23,
      "metadata": {
        "id": "sh8S_Pxa0XCv"
      },
      "outputs": [],
      "source": [
        "def augRotateShear(sample, angleconstraint, shearconstraint):\n",
        "    \"\"\"\n",
        "    This function takes in a sample, an angle constraint and a shear constraint and returns the augmented sample\n",
        "    by rotating the sample by a random angle within the angle constraint and shearing the sample by a random amount within the shear constraint\n",
        "\n",
        "    sample: numpy array of shape (n,d) where n is the number of samples and d is the number of features\n",
        "    angleconstraint: the maximum angle by which the sample can be rotated\n",
        "    shearconstraint: the maximum shear by which the sample can be sheared\n",
        "\n",
        "    returns: the augmented sample which is the input sample rotated by a random angle within the angle constraint and sheared by a random amount within the shear constraint\n",
        "    \"\"\"\n",
        "    if len(sample.shape) == 2:\n",
        "        # make sure the sample is 3 dimensional\n",
        "        sample = np.expand_dims(sample, 0)\n",
        "    amt = rng.random(len(sample))  # generate random numbers for shear\n",
        "    amt = (amt - 0.5) * shearconstraint  # make the random shear constrained\n",
        "    angle = rng.random(len(sample))  # generate random numbers for angles\n",
        "    # make the random angle constrained\n",
        "    angle = (angle - 0.5) * angleconstraint\n",
        "    nsample = sample.copy()  # preallocate the augmented array to make it faster\n",
        "    for ii in range(len(sample)):\n",
        "        nsample[ii] = rotate(\n",
        "            shear(sample[ii], amt[ii]), angle[ii]\n",
        "        )  # first apply shear, then rotate\n",
        "    return np.squeeze(nsample)  # take care if the input had only one sample."
      ]
    },
    {
      "cell_type": "markdown",
      "metadata": {
        "id": "OGKyjjNx-NQ4"
      },
      "source": [
        "Since we have two hyperparameters, we have to do the grid search on a 2 dimensional matrix. We can use our previous experience to inform where to search for the best hyperparameters."
      ]
    },
    {
      "cell_type": "code",
      "execution_count": 24,
      "metadata": {
        "id": "TJC45WRg0pOP",
        "colab": {
          "base_uri": "https://localhost:8080/"
        },
        "outputId": "12ea08d0-6fec-486a-90a6-6d9cb019cc94"
      },
      "outputs": [
        {
          "output_type": "stream",
          "name": "stdout",
          "text": [
            "Accuracy after augmentation shear: 0.0 angle: 0.0 is 63.32 %\n",
            "Accuracy after augmentation shear: 0.0 angle: 10.0 is 62.28 %\n",
            "Accuracy after augmentation shear: 0.0 angle: 20.0 is 61.650000000000006 %\n",
            "Accuracy after augmentation shear: 0.0 angle: 30.0 is 61.8 %\n",
            "Accuracy after augmentation shear: 0.0 angle: 40.0 is 62.18 %\n",
            "Accuracy after augmentation shear: 0.0 angle: 50.0 is 62.7 %\n",
            "Accuracy after augmentation shear: 0.0 angle: 60.0 is 61.49 %\n",
            "Accuracy after augmentation shear: 0.2 angle: 0.0 is 63.3 %\n",
            "Accuracy after augmentation shear: 0.2 angle: 10.0 is 61.77 %\n",
            "Accuracy after augmentation shear: 0.2 angle: 20.0 is 63.14999999999999 %\n",
            "Accuracy after augmentation shear: 0.2 angle: 30.0 is 61.309999999999995 %\n",
            "Accuracy after augmentation shear: 0.2 angle: 40.0 is 61.06 %\n",
            "Accuracy after augmentation shear: 0.2 angle: 50.0 is 61.9 %\n",
            "Accuracy after augmentation shear: 0.2 angle: 60.0 is 60.67 %\n",
            "Accuracy after augmentation shear: 0.4 angle: 0.0 is 63.32 %\n",
            "Accuracy after augmentation shear: 0.4 angle: 10.0 is 62.21 %\n",
            "Accuracy after augmentation shear: 0.4 angle: 20.0 is 63.29 %\n",
            "Accuracy after augmentation shear: 0.4 angle: 30.0 is 61.45 %\n",
            "Accuracy after augmentation shear: 0.4 angle: 40.0 is 62.31 %\n",
            "Accuracy after augmentation shear: 0.4 angle: 50.0 is 61.56 %\n",
            "Accuracy after augmentation shear: 0.4 angle: 60.0 is 59.68 %\n",
            "Accuracy after augmentation shear: 0.6 angle: 0.0 is 63.370000000000005 %\n",
            "Accuracy after augmentation shear: 0.6 angle: 10.0 is 60.67 %\n",
            "Accuracy after augmentation shear: 0.6 angle: 20.0 is 61.970000000000006 %\n",
            "Accuracy after augmentation shear: 0.6 angle: 30.0 is 61.09 %\n",
            "Accuracy after augmentation shear: 0.6 angle: 40.0 is 63.13999999999999 %\n",
            "Accuracy after augmentation shear: 0.6 angle: 50.0 is 60.699999999999996 %\n",
            "Accuracy after augmentation shear: 0.6 angle: 60.0 is 64.22 %\n",
            "Accuracy after augmentation shear: 0.8 angle: 0.0 is 63.28 %\n",
            "Accuracy after augmentation shear: 0.8 angle: 10.0 is 61.63999999999999 %\n",
            "Accuracy after augmentation shear: 0.8 angle: 20.0 is 61.629999999999995 %\n",
            "Accuracy after augmentation shear: 0.8 angle: 30.0 is 61.29 %\n",
            "Accuracy after augmentation shear: 0.8 angle: 40.0 is 61.18 %\n",
            "Accuracy after augmentation shear: 0.8 angle: 50.0 is 61.41 %\n",
            "Accuracy after augmentation shear: 0.8 angle: 60.0 is 61.809999999999995 %\n",
            "Accuracy after augmentation shear: 1.0 angle: 0.0 is 63.32 %\n",
            "Accuracy after augmentation shear: 1.0 angle: 10.0 is 61.839999999999996 %\n",
            "Accuracy after augmentation shear: 1.0 angle: 20.0 is 61.970000000000006 %\n",
            "Accuracy after augmentation shear: 1.0 angle: 30.0 is 60.040000000000006 %\n",
            "Accuracy after augmentation shear: 1.0 angle: 40.0 is 61.4 %\n",
            "Accuracy after augmentation shear: 1.0 angle: 50.0 is 63.849999999999994 %\n",
            "Accuracy after augmentation shear: 1.0 angle: 60.0 is 60.209999999999994 %\n",
            "Accuracy after augmentation shear: 1.2 angle: 0.0 is 63.41 %\n",
            "Accuracy after augmentation shear: 1.2 angle: 10.0 is 63.04 %\n",
            "Accuracy after augmentation shear: 1.2 angle: 20.0 is 61.7 %\n",
            "Accuracy after augmentation shear: 1.2 angle: 30.0 is 61.739999999999995 %\n",
            "Accuracy after augmentation shear: 1.2 angle: 40.0 is 61.86000000000001 %\n",
            "Accuracy after augmentation shear: 1.2 angle: 50.0 is 62.470000000000006 %\n",
            "Accuracy after augmentation shear: 1.2 angle: 60.0 is 62.32 %\n",
            "Accuracy after augmentation shear: 1.4 angle: 0.0 is 63.38 %\n",
            "Accuracy after augmentation shear: 1.4 angle: 10.0 is 62.36000000000001 %\n",
            "Accuracy after augmentation shear: 1.4 angle: 20.0 is 63.1 %\n",
            "Accuracy after augmentation shear: 1.4 angle: 30.0 is 62.35000000000001 %\n",
            "Accuracy after augmentation shear: 1.4 angle: 40.0 is 63.970000000000006 %\n",
            "Accuracy after augmentation shear: 1.4 angle: 50.0 is 60.74 %\n",
            "Accuracy after augmentation shear: 1.4 angle: 60.0 is 64.14999999999999 %\n",
            "Accuracy after augmentation shear: 1.6 angle: 0.0 is 63.42 %\n",
            "Accuracy after augmentation shear: 1.6 angle: 10.0 is 61.370000000000005 %\n",
            "Accuracy after augmentation shear: 1.6 angle: 20.0 is 61.51 %\n",
            "Accuracy after augmentation shear: 1.6 angle: 30.0 is 63.12 %\n",
            "Accuracy after augmentation shear: 1.6 angle: 40.0 is 62.4 %\n",
            "Accuracy after augmentation shear: 1.6 angle: 50.0 is 62.160000000000004 %\n",
            "Accuracy after augmentation shear: 1.6 angle: 60.0 is 61.529999999999994 %\n"
          ]
        }
      ],
      "source": [
        "shearconstraints = [\n",
        "    0,\n",
        "    0.2,\n",
        "    0.4,\n",
        "    0.6,\n",
        "    0.8,\n",
        "    1.0,\n",
        "    1.2,\n",
        "    1.4,\n",
        "    1.6,\n",
        "]  # the values we want to test\n",
        "angleconstraints = [0, 10, 20, 30, 40, 50, 60]  # the values we want to test\n",
        "# cartesian product of both\n",
        "hyp = cartesian((shearconstraints, angleconstraints))\n",
        "\n",
        "accuracies = np.zeros(len(hyp), dtype=float)  # we will save the values here\n",
        "\n",
        "for ii in range(len(hyp)):\n",
        "    # create the augmented dataset\n",
        "    augdata = train_X  # we include the original images also in the augmented dataset\n",
        "    auglabel = train_y\n",
        "    for jj in range(naugmentations):\n",
        "        augdata = np.concatenate(\n",
        "            (augdata, augRotateShear(train_X, hyp[ii][0], hyp[ii][1]))\n",
        "        )  # concatenate the augmented data to the set\n",
        "        auglabel = np.concatenate(\n",
        "            (auglabel, train_y)\n",
        "        )  # the labels don't change when we augment\n",
        "\n",
        "    # check the test accuracy\n",
        "    testpred = NN(augdata, auglabel, test_X)\n",
        "    accuracies[ii] = Accuracy(test_y, testpred)\n",
        "    print(\n",
        "        \"Accuracy after augmentation shear:\",\n",
        "        hyp[ii][0],\n",
        "        \"angle:\",\n",
        "        hyp[ii][1],\n",
        "        \"is\",\n",
        "        accuracies[ii]*100,\n",
        "        \"%\",\n",
        "        flush=True,\n",
        "    )"
      ]
    },
    {
      "cell_type": "markdown",
      "metadata": {
        "id": "PT6CnvSDEX7a"
      },
      "source": [
        "Let us plot it two dimensionally to see which is the best value for the hyperparameters:"
      ]
    },
    {
      "cell_type": "code",
      "execution_count": 25,
      "metadata": {
        "id": "jD2i7msI_cLd",
        "colab": {
          "base_uri": "https://localhost:8080/",
          "height": 481
        },
        "outputId": "189ea862-d349-40dc-960a-7a2b715ae6e7"
      },
      "outputs": [
        {
          "output_type": "execute_result",
          "data": {
            "text/plain": [
              "<matplotlib.colorbar.Colorbar at 0x7c895d5d41c0>"
            ]
          },
          "metadata": {},
          "execution_count": 25
        },
        {
          "output_type": "display_data",
          "data": {
            "text/plain": [
              "<Figure size 640x480 with 2 Axes>"
            ],
            "image/png": "[encoded data removed]"
          },
          "metadata": {}
        }
      ],
      "source": [
        "fig = plt.figure()\n",
        "ax = fig.add_axes([0.1, 0.1, 0.8, 0.8])\n",
        "im = ax.imshow(\n",
        "    accuracies.reshape((len(shearconstraints), len(angleconstraints))), cmap=\"hot\"\n",
        ")\n",
        "ax.set_xlabel(\"Angle\")\n",
        "ax.set_ylabel(\"Shear\")\n",
        "ax.set_xticks(np.arange(len(angleconstraints)))\n",
        "ax.set_xticklabels(angleconstraints)\n",
        "ax.set_yticks(np.arange(len(shearconstraints)))\n",
        "ax.set_yticklabels(shearconstraints)\n",
        "plt.colorbar(im)"
      ]
    },
    {
      "cell_type": "markdown",
      "metadata": {
        "id": "OHcZWJiFJDMh"
      },
      "source": [
        "It seems that rotation and shear don't mix! The best accuracy is when rotation is zero."
      ]
    },
    {
      "cell_type": "markdown",
      "metadata": {
        "id": "PAasQo1C3x4A"
      },
      "source": [
        "## Questions\n",
        "Try these questions for better understanding. You may not be able to solve all of them.\n",
        "1. What is the best value for angle constraint and shear constraint you got? How much did the accuracy improve as compared to not using augmentations?\n",
        "2. Can you increase the accuracy by increasing the number of augmentations from each sample?\n",
        "3. Try implementing a few augmentations of your own and experimenting with them. A good reference is <a href=https://www.analyticsvidhya.com/blog/2019/12/image-augmentation-deep-learning-pytorch/>here. </a>\n",
        "4. Try combining various augmentations. What is the highest accuracy you can get? What is the smallest training dataset you can take and still get accuracy above 50%?\n",
        "\n",
        "Whenever you do any experiment, a good practice is to vary the hyperparameters gradually and create a graph of your results, like we did for gridsearch."
      ]
    },
    {
      "cell_type": "markdown",
      "source": [
        "\n",
        "\n",
        "1. Best Values for Angle Constraint and Shear Constraint\n",
        "   \n",
        "To find the best values for angle and shear constraints, you typically need to experiment with different ranges and measure their impact on model performance.\n",
        "\n",
        "- **Angle Constraint**: This controls the maximum rotation applied to an image. Common values range from 10 to 30 degrees. Start with a value of 15 degrees and gradually increase or decrease based on the validation accuracy.\n",
        "- **Shear Constraint**: This controls the maximum shear intensity. Start with small values, such as 0.1 or 0.2 (measured in radians).\n",
        "\n",
        "**Improvement with Augmentations**: After applying augmentations like rotation and shear, you should observe an increase in accuracy compared to not using augmentations. This increase varies by dataset but often ranges from 1% to 10% for typical classification tasks.\n",
        " 2. Increasing Accuracy by Increasing Augmentations per Sample\n",
        "\n",
        "Increasing the number of augmentations per sample can help improve accuracy, especially when working with small datasets. Each augmented version acts as a new data point, potentially leading to a better-generalized model. However, there are diminishing returns after a certain point, where too many augmentations can cause overfitting or introduce too much noise.\n",
        "\n",
        "### 3. **Implementing Custom Augmentations**\n",
        "\n",
        "To implement custom augmentations, you can try the following:\n",
        "\n",
        "- **Color Jitter**: Randomly change the brightness, contrast, saturation, and hue.\n",
        "- **Random Erasing**: Randomly erase patches of the image to make the model robust to occlusions.\n",
        "- **CutMix/MixUp**: Mix two images by overlaying patches or linearly interpolating pixel values and adjust labels accordingly.\n",
        "  \n",
        "Try combining these augmentations and test their effects.\n",
        "\n",
        "### 4. **Combining Various Augmentations for Maximum Accuracy**\n",
        "\n",
        "Combining augmentations often leads to the highest accuracy. A common strategy is to use a combination of geometric (rotation, shear, zoom) and color-based augmentations (brightness, contrast).\n",
        "\n",
        "Experiment with the order and frequency of augmentations. Using techniques like `AutoAugment` or `RandAugment` can automate this process.\n",
        "\n",
        "### 5. **Smallest Training Dataset for >50% Accuracy**\n",
        "\n",
        "The smallest dataset size depends on your specific task, model architecture, and dataset complexity. Generally:\n",
        "\n",
        "- For simpler datasets (e.g., MNIST digits), accuracy >50% can be achieved with a small fraction of the dataset (like 10% or 1,000 images).\n",
        "- For more complex datasets (like CIFAR-10 or ImageNet), you might need a larger subset (e.g., 10,000 samples or more).\n",
        "\n",
        "### **Experimentation Strategy**\n",
        "\n",
        "1. **Start with Baseline**: Train your model without augmentations to establish a baseline accuracy.\n",
        "2. **Incremental Augmentation**: Gradually introduce augmentations like rotation, shear, and contrast, and measure their impact.\n",
        "3. **Optimize Parameters**: Experiment with different values for angle and shear constraints to find the optimal values.\n",
        "4. **Test Custom Augmentations**: Implement and test new augmentation techniques.\n",
        "5. **Dataset Size Experiment**: Reduce the size of your training dataset gradually until you find the smallest size that maintains >50% accuracy.\n",
        "\n",
        "Would you like help with a specific implementation or experiment strategy?"
      ],
      "metadata": {
        "id": "Vinpk-fe7tm3"
      }
    },
    {
      "cell_type": "markdown",
      "source": [
        "> Exercise: Try to take 50 images of each digit and calculate the performance on test set."
      ],
      "metadata": {
        "id": "zu590B33-Xp_"
      }
    },
    {
      "cell_type": "markdown",
      "source": [
        "Best Values for Angle Constraint and Shear Constraint\n",
        "To find the best values for angle and shear constraints, you typically need to experiment with different ranges and measure their impact on model performance.\n",
        "\n",
        "Angle Constraint: This controls the maximum rotation applied to an image. Common values range from 10 to 30 degrees. Start with a value of 15 degrees and gradually increase or decrease based on the validation accuracy.\n",
        "Shear Constraint: This controls the maximum shear intensity. Start with small values, such as 0.1 or 0.2 (measured in radians).\n",
        "Improvement with Augmentations: After applying augmentations like rotation and shear, you should observe an increase in accuracy compared to not using augmentations. This increase varies by dataset but often ranges from 1% to 10% for typical classification tasks."
      ],
      "metadata": {
        "id": "ekcNrWxd8P6Y"
      }
    },
    {
      "cell_type": "markdown",
      "source": [],
      "metadata": {
        "id": "pXOdHdCy8kmL"
      }
    },
    {
      "cell_type": "markdown",
      "source": [
        "Increasing Accuracy by Increasing Augmentations per Sample\n",
        "Increasing the number of augmentations per sample can help improve accuracy, especially when working with small datasets. Each augmented version acts as a new data point, potentially leading to a better-generalized model. However, there are diminishing returns after a certain point, where too many augmentations can cause overfitting or introduce too much noise."
      ],
      "metadata": {
        "id": "N--TaTae8Rxu"
      }
    },
    {
      "cell_type": "markdown",
      "source": [
        "Implementing Custom Augmentations\n",
        "To implement custom augmentations, you can try the following:\n",
        "\n",
        "Color Jitter: Randomly change the brightness, contrast, saturation, and hue.\n",
        "Random Erasing: Randomly erase patches of the image to make the model robust to occlusions.\n",
        "CutMix/MixUp: Mix two images by overlaying patches or linearly interpolating pixel values and adjust labels accordingly.\n",
        "Try combining these augmentations and test their effects."
      ],
      "metadata": {
        "id": "L744Aro18jWH"
      }
    },
    {
      "cell_type": "markdown",
      "source": [
        "Combining Various Augmentations for Maximum Accuracy\n",
        "Combining augmentations often leads to the highest accuracy. A common strategy is to use a combination of geometric (rotation, shear, zoom) and color-based augmentations (brightness, contrast).\n",
        "\n",
        "Experiment with the order and frequency of augmentations. Using techniques like AutoAugment or RandAugment can automate this process."
      ],
      "metadata": {
        "id": "ENeC6CfC8nab"
      }
    },
    {
      "cell_type": "markdown",
      "source": [
        "Smallest Training Dataset for >50% Accuracy\n",
        "The smallest dataset size depends on your specific task, model architecture, and dataset complexity. Generally:\n",
        "\n",
        "For simpler datasets (e.g., MNIST digits), accuracy >50% can be achieved with a small fraction of the dataset (like 10% or 1,000 images).\n",
        "For more complex datasets (like CIFAR-10 or ImageNet), you might need a larger subset (e.g., 10,000 samples or more)."
      ],
      "metadata": {
        "id": "dT1mGkUp8rGM"
      }
    }
  ],
  "metadata": {
    "colab": {
      "provenance": [],
      "include_colab_link": true
    },
    "kernelspec": {
      "display_name": "Python 3",
      "name": "python3"
    },
    "language_info": {
      "codemirror_mode": {
        "name": "ipython",
        "version": 3
      },
      "file_extension": ".py",
      "mimetype": "text/x-python",
      "name": "python",
      "nbconvert_exporter": "python",
      "pygments_lexer": "ipython3",
      "version": "3.10.10"
    }
  },
  "nbformat": 4,
  "nbformat_minor": 0
}